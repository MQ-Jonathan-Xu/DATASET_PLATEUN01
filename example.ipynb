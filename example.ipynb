{
  "nbformat": 4,
  "nbformat_minor": 0,
  "metadata": {
    "colab": {
      "name": "example.ipynb",
      "provenance": []
    },
    "kernelspec": {
      "name": "python3",
      "display_name": "Python 3"
    }
  },
  "cells": [
    {
      "cell_type": "markdown",
      "metadata": {
        "id": "6OAk_ILOMF3w"
      },
      "source": [
        "[![Open In Colab](https://colab.research.google.com/assets/colab-badge.svg)](https://colab.research.google.com/github/googlecolab/colabtools/blob/master/notebooks/colab-github-demo.ipynb)\n",
        "\n",
        "**Import Libraries**\n",
        "\n"
      ]
    },
    {
      "cell_type": "code",
      "metadata": {
        "id": "o0E5tL2MLu-X",
        "outputId": "69ee662a-6c16-4b8f-ffbb-417439cfdb6f",
        "colab": {
          "base_uri": "https://localhost:8080/",
          "height": 34
        }
      },
      "source": [
        "import numpy as np\n",
        "import matplotlib.pyplot as plt\n",
        "import scipy.io as sio\n",
        "\n",
        "# Mounting GDrive\n",
        "from google.colab import drive\n",
        "drive.mount('/content/drive')"
      ],
      "execution_count": null,
      "outputs": [
        {
          "output_type": "stream",
          "text": [
            "Drive already mounted at /content/drive; to attempt to forcibly remount, call drive.mount(\"/content/drive\", force_remount=True).\n"
          ],
          "name": "stdout"
        }
      ]
    },
    {
      "cell_type": "markdown",
      "metadata": {
        "id": "-Zn-1akKMOQI"
      },
      "source": [
        "**Import Data**"
      ]
    },
    {
      "cell_type": "code",
      "metadata": {
        "id": "FmYGwBLTMRX4"
      },
      "source": [
        "folder_path='/content/drive/My Drive/Workspace/DATASET_PLATEUN01/data/'\n",
        "\n",
        "set_cond=['H_T30','D1','D2','D3','D4','D5','D6','D7','D8','D9','D10','D11']\n",
        "\n",
        "y_acq={}\n",
        "u_acq={}\n",
        "\n",
        "\n",
        "data_experiment=sio.loadmat(folder_path+'EXPERIMENT_INFO.mat',squeeze_me=True,struct_as_record=False)\n",
        "\n",
        "\n",
        "for cond in set_cond:\n",
        "\n",
        "  data=sio.loadmat(folder_path+cond+'.mat',squeeze_me=True,struct_as_record=False)\n",
        "  y_acq[cond]=data['data'][:,[1,2,3],:]\n",
        "  u_acq[cond]=data['data'][:,0,:]\n",
        "\n"
      ],
      "execution_count": null,
      "outputs": []
    },
    {
      "cell_type": "code",
      "metadata": {
        "id": "0wmy-I0vfJQT",
        "outputId": "699531bb-a517-407c-a718-26366bc5d76e",
        "colab": {
          "base_uri": "https://localhost:8080/",
          "height": 282
        }
      },
      "source": [
        "cond='D1'\n",
        "\n",
        "plt.plot(u_acq[cond][:,0])"
      ],
      "execution_count": null,
      "outputs": [
        {
          "output_type": "execute_result",
          "data": {
            "text/plain": [
              "[<matplotlib.lines.Line2D at 0x7f209413ef98>]"
            ]
          },
          "metadata": {
            "tags": []
          },
          "execution_count": 42
        },
        {
          "output_type": "display_data",
          "data": {
            "image/png": "[encoded data removed]",
            "text/plain": [
              "<Figure size 432x288 with 1 Axes>"
            ]
          },
          "metadata": {
            "tags": [],
            "needs_background": "light"
          }
        }
      ]
    }
  ]
}